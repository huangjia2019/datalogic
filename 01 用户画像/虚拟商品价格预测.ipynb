{
 "cells": [
  {
   "cell_type": "markdown",
   "metadata": {
    "_uuid": "09e32975579ebee4f9cee5aad785d6a0e8dc08b0"
   },
   "source": [
    "<div>\n",
    "    <h1><center style=\"background-color:#97CEFA; color:red;\"> Bitcoin走势预测</center></h1>\n",
    "</div>\n",
    "\n",
    "**什么是比特币**\n",
    "\n",
    "比特币是运行时间最长，最知名的加密货币，由中本聪（Satoshi Nakamoto）于2009年首次以匿名开源形式发布。 \n",
    "\n",
    "比特币充当数字交换的去中心化媒介，交易经过验证并记录在公共分布式账本（区块链）中，而无需受信任的记录保存机构或中央中介机构。 \n",
    "\n",
    "事务块包含先前事务块的SHA-256加密哈希，因此被“链接”在一起，作为曾经发生过的所有事务的不可变记录。  \n",
    "\n",
    "![](data:image/jpeg;base64,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)\n",
    "\n",
    "**我们在这个Notebook中学习：**\n",
    "\n",
    "* 用Facebook开源的**Prophet**预测比特币走势\n",
    "\n",
    "**分享人：黄佳 《零基础学机器学习》作者**\n",
    "\n",
    "![](data:image/jpeg;base64,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)\n",
    "\n",
    " [书籍链接](https://item.jd.com/12763913.html)\n",
    "\n",
    "**参考资料：** 本Notebook参考了Some Aditya Mandal的代码\n",
    "\n",
    "**资料链接：** [书籍及Notebook](https://item.jd.com/12763913.html)\n"
   ]
  },
  {
   "cell_type": "markdown",
   "metadata": {},
   "source": [
    "# 第一部分 **比特币数据集的读入和整理**"
   ]
  },
  {
   "cell_type": "markdown",
   "metadata": {},
   "source": [
    "## 1.1 导入相关的包"
   ]
  },
  {
   "cell_type": "code",
   "execution_count": null,
   "metadata": {
    "_uuid": "e9f570203bf9452c02983eeae4259e8534e2ad6a",
    "execution": {
     "iopub.execute_input": "2021-07-01T14:35:10.355818Z",
     "iopub.status.busy": "2021-07-01T14:35:10.355463Z",
     "iopub.status.idle": "2021-07-01T14:35:10.938871Z",
     "shell.execute_reply": "2021-07-01T14:35:10.937901Z",
     "shell.execute_reply.started": "2021-07-01T14:35:10.355693Z"
    }
   },
   "outputs": [],
   "source": [
    "import numpy as np # 数学扩展包\n",
    "import pandas as pd # 数据处理包\n",
    "import matplotlib.pyplot as plt # 数据可视化\n",
    "import seaborn as sns # 数据可视化\n",
    "\n",
    "import datetime, pytz # 为csv文件中的本机时戳定义转换函数，成为可以读取的时间\n",
    "def dateparse (time_in_secs):    \n",
    "    return pytz.utc.localize(datetime.datetime.fromtimestamp(float(time_in_secs)))"
   ]
  },
  {
   "cell_type": "markdown",
   "metadata": {},
   "source": [
    "## 1.2 读入比特币数据集"
   ]
  },
  {
   "cell_type": "code",
   "execution_count": null,
   "metadata": {
    "_kg_hide-input": true,
    "_uuid": "500e2038829ebe2d7cc32b60aa9a57e3d7be5bb6",
    "execution": {
     "iopub.execute_input": "2021-07-01T14:35:23.056828Z",
     "iopub.status.busy": "2021-07-01T14:35:23.056533Z",
     "iopub.status.idle": "2021-07-01T14:36:06.328393Z",
     "shell.execute_reply": "2021-07-01T14:36:06.327743Z",
     "shell.execute_reply.started": "2021-07-01T14:35:23.05678Z"
    }
   },
   "outputs": [],
   "source": [
    "# https://www.kaggle.com/datasets/tohuangjia/bitcoin-simple-set 可以从这个链接下载数据集,然后放入当前目录\n",
    "data = pd.read_csv('./bitstampUSD_1-min_data_2012-01-01_to_2021-03-31.csv', parse_dates=[0], date_parser=dateparse)\n",
    "data[-5:]"
   ]
  },
  {
   "cell_type": "markdown",
   "metadata": {},
   "source": [
    "## 1.3 数据集清理"
   ]
  },
  {
   "cell_type": "code",
   "execution_count": null,
   "metadata": {
    "execution": {
     "iopub.execute_input": "2021-07-01T14:36:06.329954Z",
     "iopub.status.busy": "2021-07-01T14:36:06.329697Z",
     "iopub.status.idle": "2021-07-01T14:36:06.734059Z",
     "shell.execute_reply": "2021-07-01T14:36:06.733439Z",
     "shell.execute_reply.started": "2021-07-01T14:36:06.329911Z"
    }
   },
   "outputs": [],
   "source": [
    "data['Timestamp'] = data['Timestamp'].dt.tz_localize(None)\n",
    "data = data.groupby([pd.Grouper(key='Timestamp', freq='H')]).first().reset_index()\n",
    "data = data.set_index('Timestamp')\n",
    "data = data[['Weighted_Price']]\n",
    "data['Weighted_Price'].fillna(method='ffill', inplace=True)"
   ]
  },
  {
   "cell_type": "code",
   "execution_count": null,
   "metadata": {
    "execution": {
     "iopub.execute_input": "2021-07-01T14:36:06.735975Z",
     "iopub.status.busy": "2021-07-01T14:36:06.735556Z",
     "iopub.status.idle": "2021-07-01T14:36:06.754323Z",
     "shell.execute_reply": "2021-07-01T14:36:06.748988Z",
     "shell.execute_reply.started": "2021-07-01T14:36:06.735784Z"
    }
   },
   "outputs": [],
   "source": [
    "data.head()"
   ]
  },
  {
   "cell_type": "markdown",
   "metadata": {},
   "source": [
    "## 1.4 显示比特币走势曲线"
   ]
  },
  {
   "cell_type": "code",
   "execution_count": null,
   "metadata": {
    "execution": {
     "iopub.execute_input": "2021-07-01T14:36:06.756888Z",
     "iopub.status.busy": "2021-07-01T14:36:06.756455Z",
     "iopub.status.idle": "2021-07-01T14:36:07.689858Z",
     "shell.execute_reply": "2021-07-01T14:36:07.689146Z",
     "shell.execute_reply.started": "2021-07-01T14:36:06.756833Z"
    }
   },
   "outputs": [],
   "source": [
    "color_pal = [\"#F8766D\", \"#D39200\", \"#93AA00\", \"#00BA38\", \"#00C19F\", \"#00B9E3\", \"#619CFF\", \"#DB72FB\"]\n",
    "fig = data.plot(style='', figsize=(15,5), color=color_pal[0], title='BTC Weighted_Price Price (USD) by Hours')"
   ]
  },
  {
   "cell_type": "markdown",
   "metadata": {},
   "source": [
    "# 第二部分 **通过Facebook Prophet预测价格走势**"
   ]
  },
  {
   "cell_type": "markdown",
   "metadata": {},
   "source": [
    "## 2.1 导入Prophet包"
   ]
  },
  {
   "cell_type": "markdown",
   "metadata": {},
   "source": [
    "**第一次运行需安装下面两个包"
   ]
  },
  {
   "cell_type": "code",
   "execution_count": null,
   "metadata": {
    "execution": {
     "iopub.execute_input": "2021-07-01T14:36:07.691568Z",
     "iopub.status.busy": "2021-07-01T14:36:07.691078Z",
     "iopub.status.idle": "2021-07-01T14:36:07.694942Z",
     "shell.execute_reply": "2021-07-01T14:36:07.694111Z",
     "shell.execute_reply.started": "2021-07-01T14:36:07.691515Z"
    }
   },
   "outputs": [],
   "source": [
    "# pip install pystan==2.19.1.1"
   ]
  },
  {
   "cell_type": "code",
   "execution_count": null,
   "metadata": {
    "execution": {
     "iopub.execute_input": "2021-07-01T14:36:07.696793Z",
     "iopub.status.busy": "2021-07-01T14:36:07.69629Z",
     "iopub.status.idle": "2021-07-01T14:36:07.705297Z",
     "shell.execute_reply": "2021-07-01T14:36:07.70471Z",
     "shell.execute_reply.started": "2021-07-01T14:36:07.696743Z"
    }
   },
   "outputs": [],
   "source": [
    "# pip install prophet"
   ]
  },
  {
   "cell_type": "code",
   "execution_count": null,
   "metadata": {
    "execution": {
     "iopub.execute_input": "2021-07-01T14:36:07.707551Z",
     "iopub.status.busy": "2021-07-01T14:36:07.707062Z",
     "iopub.status.idle": "2021-07-01T14:36:09.043365Z",
     "shell.execute_reply": "2021-07-01T14:36:09.042676Z",
     "shell.execute_reply.started": "2021-07-01T14:36:07.707319Z"
    }
   },
   "outputs": [],
   "source": [
    "from fbprophet import Prophet"
   ]
  },
  {
   "cell_type": "markdown",
   "metadata": {},
   "source": [
    "## 2.2 拆分数据集"
   ]
  },
  {
   "cell_type": "code",
   "execution_count": null,
   "metadata": {
    "execution": {
     "iopub.execute_input": "2021-07-01T14:36:09.044854Z",
     "iopub.status.busy": "2021-07-01T14:36:09.044587Z",
     "iopub.status.idle": "2021-07-01T14:36:09.059701Z",
     "shell.execute_reply": "2021-07-01T14:36:09.05874Z",
     "shell.execute_reply.started": "2021-07-01T14:36:09.044808Z"
    }
   },
   "outputs": [],
   "source": [
    "split_date = '25-Dec-2020'\n",
    "data_train = data.loc[data.index <= split_date].copy()\n",
    "data_test = data.loc[data.index > split_date].copy()"
   ]
  },
  {
   "cell_type": "markdown",
   "metadata": {},
   "source": [
    "## 2.3 显示数据集拆分状态"
   ]
  },
  {
   "cell_type": "code",
   "execution_count": null,
   "metadata": {
    "execution": {
     "iopub.execute_input": "2021-07-01T14:36:09.061501Z",
     "iopub.status.busy": "2021-07-01T14:36:09.061218Z",
     "iopub.status.idle": "2021-07-01T14:36:10.516917Z",
     "shell.execute_reply": "2021-07-01T14:36:10.516074Z",
     "shell.execute_reply.started": "2021-07-01T14:36:09.061455Z"
    }
   },
   "outputs": [],
   "source": [
    "fig = data_test \\\n",
    "    .rename(columns={'Weighted_Price': 'Test Set'}) \\\n",
    "    .join(data_train.rename(columns={'Weighted_Price': 'Training Set'}), how='outer') \\\n",
    "    .plot(figsize=(15,5), title='BTC Weighted_Price Price (USD) by Hours', style='')"
   ]
  },
  {
   "cell_type": "markdown",
   "metadata": {},
   "source": [
    "## 2.4 准备训练数据集"
   ]
  },
  {
   "cell_type": "code",
   "execution_count": null,
   "metadata": {
    "execution": {
     "iopub.execute_input": "2021-07-01T14:36:10.518421Z",
     "iopub.status.busy": "2021-07-01T14:36:10.518145Z",
     "iopub.status.idle": "2021-07-01T14:36:10.526396Z",
     "shell.execute_reply": "2021-07-01T14:36:10.525607Z",
     "shell.execute_reply.started": "2021-07-01T14:36:10.518357Z"
    }
   },
   "outputs": [],
   "source": [
    "data_train = data_train.reset_index().rename(columns={'Timestamp':'ds', 'Weighted_Price':'y'})"
   ]
  },
  {
   "cell_type": "markdown",
   "metadata": {},
   "source": [
    "## 2.5 建立模型"
   ]
  },
  {
   "cell_type": "code",
   "execution_count": null,
   "metadata": {
    "execution": {
     "iopub.execute_input": "2021-07-01T14:36:10.528169Z",
     "iopub.status.busy": "2021-07-01T14:36:10.527645Z",
     "iopub.status.idle": "2021-07-01T14:36:10.533631Z",
     "shell.execute_reply": "2021-07-01T14:36:10.532678Z",
     "shell.execute_reply.started": "2021-07-01T14:36:10.527902Z"
    }
   },
   "outputs": [],
   "source": [
    "model = Prophet()"
   ]
  },
  {
   "cell_type": "markdown",
   "metadata": {},
   "source": [
    "## 2.6 拟合模型"
   ]
  },
  {
   "cell_type": "code",
   "execution_count": null,
   "metadata": {
    "execution": {
     "iopub.execute_input": "2021-07-01T14:36:10.535705Z",
     "iopub.status.busy": "2021-07-01T14:36:10.535074Z",
     "iopub.status.idle": "2021-07-01T14:40:16.123972Z",
     "shell.execute_reply": "2021-07-01T14:40:16.12315Z",
     "shell.execute_reply.started": "2021-07-01T14:36:10.535417Z"
    }
   },
   "outputs": [],
   "source": [
    "model.fit(data_train)"
   ]
  },
  {
   "cell_type": "markdown",
   "metadata": {},
   "source": [
    "## 2.7 在测试集上预测后续走势"
   ]
  },
  {
   "cell_type": "code",
   "execution_count": null,
   "metadata": {
    "execution": {
     "iopub.execute_input": "2021-07-01T14:40:16.127278Z",
     "iopub.status.busy": "2021-07-01T14:40:16.127052Z",
     "iopub.status.idle": "2021-07-01T14:40:24.103569Z",
     "shell.execute_reply": "2021-07-01T14:40:24.102693Z",
     "shell.execute_reply.started": "2021-07-01T14:40:16.127232Z"
    }
   },
   "outputs": [],
   "source": [
    "data_test_fcst = model.predict(df=data_test.reset_index().rename(columns={'Timestamp':'ds'}))"
   ]
  },
  {
   "cell_type": "markdown",
   "metadata": {},
   "source": [
    "## 2.8 显示预测数据"
   ]
  },
  {
   "cell_type": "code",
   "execution_count": null,
   "metadata": {
    "execution": {
     "iopub.execute_input": "2021-07-01T14:40:24.105047Z",
     "iopub.status.busy": "2021-07-01T14:40:24.104778Z",
     "iopub.status.idle": "2021-07-01T14:40:24.774472Z",
     "shell.execute_reply": "2021-07-01T14:40:24.773833Z",
     "shell.execute_reply.started": "2021-07-01T14:40:24.105005Z"
    }
   },
   "outputs": [],
   "source": [
    "fig = model.plot(data_test_fcst)"
   ]
  },
  {
   "cell_type": "markdown",
   "metadata": {},
   "source": [
    "## 2.9 将预测数据和实际数据一起显示"
   ]
  },
  {
   "cell_type": "code",
   "execution_count": null,
   "metadata": {
    "execution": {
     "iopub.execute_input": "2021-07-01T15:05:41.839066Z",
     "iopub.status.busy": "2021-07-01T15:05:41.838781Z",
     "iopub.status.idle": "2021-07-01T15:05:42.579016Z",
     "shell.execute_reply": "2021-07-01T15:05:42.578191Z",
     "shell.execute_reply.started": "2021-07-01T15:05:41.839012Z"
    }
   },
   "outputs": [],
   "source": [
    "f, ax = plt.subplots()\n",
    "# f.set_figheight(5)\n",
    "f.set_figwidth(10)\n",
    "ax.scatter(data_test.index, data_test['Weighted_Price'], color='r')\n",
    "fig = model.plot(data_test_fcst, ax=ax)"
   ]
  },
  {
   "cell_type": "markdown",
   "metadata": {},
   "source": [
    "## 2.10 计算模型的预测误差"
   ]
  },
  {
   "cell_type": "code",
   "execution_count": null,
   "metadata": {
    "execution": {
     "iopub.execute_input": "2021-07-01T14:40:25.5125Z",
     "iopub.status.busy": "2021-07-01T14:40:25.512219Z",
     "iopub.status.idle": "2021-07-01T14:40:25.688327Z",
     "shell.execute_reply": "2021-07-01T14:40:25.687713Z",
     "shell.execute_reply.started": "2021-07-01T14:40:25.512453Z"
    }
   },
   "outputs": [],
   "source": [
    "from sklearn.metrics import mean_squared_error # 均方误差\n",
    "mean_squared_error(y_true=data_test['Weighted_Price'],\n",
    "                   y_pred=data_test_fcst['yhat'])"
   ]
  },
  {
   "cell_type": "markdown",
   "metadata": {},
   "source": [
    "**至此，这个项目就完成了。**\n",
    "\n",
    "不难看出，要预测未来，尤其是高波动性的金融衍生品非常困难。\n",
    "以后我们还可以探讨使用其它一些方法预测比特币，并将各种方法的结果进行比较，评价。\n",
    "\n",
    "例如：\n",
    "* 用**LSTM**预测比特币走势\n",
    "* 用**XGBoost**预测比特币走势\n",
    "* 用**ARIMA**预测比特币走势\n",
    "\n",
    "敬请期待。。。"
   ]
  }
 ],
 "metadata": {
  "kernelspec": {
   "display_name": "Python 3 (ipykernel)",
   "language": "python",
   "name": "python3"
  },
  "language_info": {
   "codemirror_mode": {
    "name": "ipython",
    "version": 3
   },
   "file_extension": ".py",
   "mimetype": "text/x-python",
   "name": "python",
   "nbconvert_exporter": "python",
   "pygments_lexer": "ipython3",
   "version": "3.8.8"
  }
 },
 "nbformat": 4,
 "nbformat_minor": 4
}
